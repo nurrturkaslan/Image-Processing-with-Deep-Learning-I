{
 "cells": [
  {
   "cell_type": "markdown",
   "metadata": {},
   "source": [
    "# Python"
   ]
  },
  {
   "cell_type": "raw",
   "metadata": {},
   "source": [
    "Neden Python ?\n",
    "\n",
    "Python; nesne yönelimli, yorumlamalı, birimsel ve etkileşimli yüksek seviyeli bir programlama dilidir. (Yani syntax çok kolay)\n",
    "\n",
    "Girintilere dayalı basit sözdizimi, dilin öğrenilmesini ve akılda kalmasını kolaylaştırır.\n",
    "\n",
    "Her alanda güçlü topluluk ve kütüphane desteği sağlamaktadır."
   ]
  },
  {
   "cell_type": "markdown",
   "metadata": {},
   "source": [
    "## Değişkenler"
   ]
  },
  {
   "cell_type": "raw",
   "metadata": {},
   "source": [
    "Değişkenler \"variable\" olarak adlandırılırlar.\n",
    "\n",
    "Bizim veri tiplerimizi, verilerimizi içerisinde depolayan yapılardır. Çok fazla veri tipi var.\n",
    "\n",
    "Örneğin;"
   ]
  },
  {
   "cell_type": "code",
   "execution_count": 1,
   "metadata": {},
   "outputs": [],
   "source": [
    "tamsayi_degisken = 10\n",
    "ondalikli_sayi = 12.3"
   ]
  },
  {
   "cell_type": "code",
   "execution_count": 2,
   "metadata": {},
   "outputs": [
    {
     "name": "stdout",
     "output_type": "stream",
     "text": [
      "10\n",
      "12.3\n"
     ]
    }
   ],
   "source": [
    "print(tamsayi_degisken)\n",
    "print(ondalikli_sayi)"
   ]
  },
  {
   "cell_type": "code",
   "execution_count": 3,
   "metadata": {},
   "outputs": [
    {
     "name": "stdout",
     "output_type": "stream",
     "text": [
      "<class 'int'>\n",
      "<class 'float'>\n"
     ]
    }
   ],
   "source": [
    "print(type(tamsayi_degisken))\n",
    "print(type(ondalikli_sayi))"
   ]
  },
  {
   "cell_type": "markdown",
   "metadata": {},
   "source": [
    "## Dört İşlem Özellikleri"
   ]
  },
  {
   "cell_type": "code",
   "execution_count": 4,
   "metadata": {},
   "outputs": [],
   "source": [
    "pi_sayisi = 3.14\n",
    "katsayi = 2"
   ]
  },
  {
   "cell_type": "code",
   "execution_count": 5,
   "metadata": {},
   "outputs": [],
   "source": [
    "toplam = pi_sayisi + 1\n",
    "fark = pi_sayisi - 1\n",
    "carpma = pi_sayisi * katsayi\n",
    "bolme = pi_sayisi / katsayi"
   ]
  },
  {
   "cell_type": "code",
   "execution_count": 6,
   "metadata": {},
   "outputs": [
    {
     "name": "stdout",
     "output_type": "stream",
     "text": [
      "Toplam:  4.140000000000001\n",
      "fark:  2.14\n",
      "carpma:  6.28\n",
      "bolme:  1.57\n"
     ]
    }
   ],
   "source": [
    "print(\"Toplam: \", toplam)\n",
    "print(\"fark: \", fark)\n",
    "print(\"carpma: \", carpma)\n",
    "print(\"bolme: \", bolme)"
   ]
  },
  {
   "cell_type": "code",
   "execution_count": 7,
   "metadata": {},
   "outputs": [
    {
     "name": "stdout",
     "output_type": "stream",
     "text": [
      "Toplam: 4.140000000000001 ve Fark: 2.14\n"
     ]
    }
   ],
   "source": [
    "print(\"Toplam: {} ve Fark: {}\".format(toplam, fark))"
   ]
  },
  {
   "cell_type": "code",
   "execution_count": 8,
   "metadata": {},
   "outputs": [
    {
     "name": "stdout",
     "output_type": "stream",
     "text": [
      "Çarpma: 6.3, bölme: 1.5700\n"
     ]
    }
   ],
   "source": [
    "print(\"Çarpma: %.1f, bölme: %.4f\" % (carpma,bolme))"
   ]
  },
  {
   "cell_type": "code",
   "execution_count": 9,
   "metadata": {},
   "outputs": [
    {
     "name": "stdout",
     "output_type": "stream",
     "text": [
      "6\n"
     ]
    }
   ],
   "source": [
    "#Değişkenler arası dönüşüm\n",
    "\n",
    "carpma_int = int(carpma)\n",
    "print(carpma_int)"
   ]
  },
  {
   "cell_type": "code",
   "execution_count": 10,
   "metadata": {},
   "outputs": [
    {
     "data": {
      "text/plain": [
       "10.0"
      ]
     },
     "execution_count": 10,
     "metadata": {},
     "output_type": "execute_result"
    }
   ],
   "source": [
    "tamsayi_float = float(tamsayi_degisken)\n",
    "tamsayi_float"
   ]
  },
  {
   "cell_type": "code",
   "execution_count": 11,
   "metadata": {},
   "outputs": [
    {
     "data": {
      "text/plain": [
       "'merhaba dünya'"
      ]
     },
     "execution_count": 11,
     "metadata": {},
     "output_type": "execute_result"
    }
   ],
   "source": [
    "#Stringler: Karakter dizisi\n",
    "\n",
    "string = \"merhaba dünya\"\n",
    "string"
   ]
  },
  {
   "cell_type": "code",
   "execution_count": 12,
   "metadata": {},
   "outputs": [
    {
     "data": {
      "text/plain": [
       "str"
      ]
     },
     "execution_count": 12,
     "metadata": {},
     "output_type": "execute_result"
    }
   ],
   "source": [
    "type(string)"
   ]
  },
  {
   "cell_type": "markdown",
   "metadata": {},
   "source": [
    "## Liste"
   ]
  },
  {
   "cell_type": "code",
   "execution_count": 13,
   "metadata": {},
   "outputs": [
    {
     "data": {
      "text/plain": [
       "[1, 'a', 1.0]"
      ]
     },
     "execution_count": 13,
     "metadata": {},
     "output_type": "execute_result"
    }
   ],
   "source": [
    "# python un bileşik veri(int, string vs) türüdür ve çok yönlüdür.\n",
    "#farklı veri tiplerini içerisinde barındırabilir\n",
    "\n",
    "list = [1, \"a\", 1.0]\n",
    "list"
   ]
  },
  {
   "cell_type": "code",
   "execution_count": 14,
   "metadata": {},
   "outputs": [
    {
     "data": {
      "text/plain": [
       "list"
      ]
     },
     "execution_count": 14,
     "metadata": {},
     "output_type": "execute_result"
    }
   ],
   "source": [
    "type(list)"
   ]
  },
  {
   "cell_type": "code",
   "execution_count": 15,
   "metadata": {},
   "outputs": [
    {
     "name": "stdout",
     "output_type": "stream",
     "text": [
      "<class 'int'>\n",
      "<class 'str'>\n",
      "<class 'float'>\n"
     ]
    }
   ],
   "source": [
    "print(type(list[0]))\n",
    "print(type(list[1]))\n",
    "print(type(list[2]))"
   ]
  },
  {
   "cell_type": "code",
   "execution_count": 16,
   "metadata": {},
   "outputs": [
    {
     "name": "stdout",
     "output_type": "stream",
     "text": [
      "pazartesi\n",
      "çarşamba\n"
     ]
    }
   ],
   "source": [
    "hafta = [\"pazartesi\", \"sali\", \"çarşamba\", \"perşembe\", \"cuma\", \"cumartesi\", \"pazar\"]\n",
    "print(hafta[0])\n",
    "print(hafta[2])\n",
    "#index 0'dan saymaya başalarız"
   ]
  },
  {
   "cell_type": "code",
   "execution_count": 17,
   "metadata": {},
   "outputs": [
    {
     "name": "stdout",
     "output_type": "stream",
     "text": [
      "pazar\n"
     ]
    }
   ],
   "source": [
    "print(hafta[-1]) #son eleman"
   ]
  },
  {
   "cell_type": "code",
   "execution_count": 18,
   "metadata": {},
   "outputs": [
    {
     "name": "stdout",
     "output_type": "stream",
     "text": [
      "7\n"
     ]
    }
   ],
   "source": [
    "print(len(hafta)) #listenin içerisinde bulunan eleman sayısı"
   ]
  },
  {
   "cell_type": "code",
   "execution_count": 19,
   "metadata": {},
   "outputs": [
    {
     "data": {
      "text/plain": [
       "['sali', 'çarşamba', 'perşembe']"
      ]
     },
     "execution_count": 19,
     "metadata": {},
     "output_type": "execute_result"
    }
   ],
   "source": [
    "#liste 2-3-4: 1,2,3 indexleri yazdır.\n",
    "hafta[1:4] #1 dahil 4 dahil değil"
   ]
  },
  {
   "cell_type": "code",
   "execution_count": 20,
   "metadata": {},
   "outputs": [
    {
     "data": {
      "text/plain": [
       "[1, 2, 3, 4, 5, 6, 7]"
      ]
     },
     "execution_count": 20,
     "metadata": {},
     "output_type": "execute_result"
    }
   ],
   "source": [
    "#sayı listesi\n",
    "\n",
    "sayi = [1,2,3,4,5,6]\n",
    "sayi.append(7) #listeye eklemek\n",
    "sayi"
   ]
  },
  {
   "cell_type": "code",
   "execution_count": 21,
   "metadata": {},
   "outputs": [
    {
     "data": {
      "text/plain": [
       "[1, 2, 3, 5, 6, 7]"
      ]
     },
     "execution_count": 21,
     "metadata": {},
     "output_type": "execute_result"
    }
   ],
   "source": [
    "# sayi listesinden çıkarmak \"remove\"\n",
    "\n",
    "sayi.remove(4)\n",
    "sayi"
   ]
  },
  {
   "cell_type": "code",
   "execution_count": 22,
   "metadata": {},
   "outputs": [
    {
     "data": {
      "text/plain": [
       "[7, 6, 5, 3, 2, 1]"
      ]
     },
     "execution_count": 22,
     "metadata": {},
     "output_type": "execute_result"
    }
   ],
   "source": [
    "#listeyi ters çevir\n",
    "\n",
    "sayi.reverse()\n",
    "sayi"
   ]
  },
  {
   "cell_type": "code",
   "execution_count": 23,
   "metadata": {},
   "outputs": [
    {
     "data": {
      "text/plain": [
       "[4, 5, 6, 7, 9, 13]"
      ]
     },
     "execution_count": 23,
     "metadata": {},
     "output_type": "execute_result"
    }
   ],
   "source": [
    "#listeyi küçükten büyüğe sırala\n",
    "\n",
    "sayi_listesi = [13,6,7,5,4,9]\n",
    "sayi_listesi.sort()\n",
    "sayi_listesi"
   ]
  },
  {
   "cell_type": "markdown",
   "metadata": {},
   "source": [
    "## Tuple "
   ]
  },
  {
   "cell_type": "raw",
   "metadata": {},
   "source": [
    " Sıralı ve değiştirilemez bir veri tipidir.\n",
    "-(1,2,3)"
   ]
  },
  {
   "cell_type": "code",
   "execution_count": 24,
   "metadata": {},
   "outputs": [
    {
     "name": "stdout",
     "output_type": "stream",
     "text": [
      "1\n"
     ]
    }
   ],
   "source": [
    "tuple_veritipi = (1,2,3,3,4,5,6)\n",
    "print(tuple_veritipi[0])"
   ]
  },
  {
   "cell_type": "code",
   "execution_count": 25,
   "metadata": {},
   "outputs": [
    {
     "data": {
      "text/plain": [
       "(3, 3, 4, 5, 6)"
      ]
     },
     "execution_count": 25,
     "metadata": {},
     "output_type": "execute_result"
    }
   ],
   "source": [
    "# 2. indexten sonraki elemanları yazdıralım\n",
    "tuple_veritipi[2:]"
   ]
  },
  {
   "cell_type": "code",
   "execution_count": 26,
   "metadata": {},
   "outputs": [
    {
     "data": {
      "text/plain": [
       "2"
      ]
     },
     "execution_count": 26,
     "metadata": {},
     "output_type": "execute_result"
    }
   ],
   "source": [
    "# count eleman\n",
    "tuple_veritipi.count(3)"
   ]
  },
  {
   "cell_type": "code",
   "execution_count": 27,
   "metadata": {},
   "outputs": [
    {
     "name": "stdout",
     "output_type": "stream",
     "text": [
      "1 2 3\n"
     ]
    }
   ],
   "source": [
    "tuple_xyz = (1,2,3)\n",
    "x, y, z = tuple_xyz\n",
    "print(x,y,z)"
   ]
  },
  {
   "cell_type": "markdown",
   "metadata": {},
   "source": [
    "## Deque"
   ]
  },
  {
   "cell_type": "code",
   "execution_count": 28,
   "metadata": {},
   "outputs": [],
   "source": [
    "from collections import deque"
   ]
  },
  {
   "cell_type": "code",
   "execution_count": 29,
   "metadata": {},
   "outputs": [
    {
     "data": {
      "text/plain": [
       "deque([])"
      ]
     },
     "execution_count": 29,
     "metadata": {},
     "output_type": "execute_result"
    }
   ],
   "source": [
    "dq = deque(maxlen = 3)\n",
    "dq"
   ]
  },
  {
   "cell_type": "code",
   "execution_count": 30,
   "metadata": {},
   "outputs": [
    {
     "data": {
      "text/plain": [
       "deque([1])"
      ]
     },
     "execution_count": 30,
     "metadata": {},
     "output_type": "execute_result"
    }
   ],
   "source": [
    "dq.append(1) #sonuna 1 ekle [1]\n",
    "dq"
   ]
  },
  {
   "cell_type": "code",
   "execution_count": 31,
   "metadata": {},
   "outputs": [
    {
     "data": {
      "text/plain": [
       "deque([1, 2])"
      ]
     },
     "execution_count": 31,
     "metadata": {},
     "output_type": "execute_result"
    }
   ],
   "source": [
    "dq.append(2)\n",
    "dq"
   ]
  },
  {
   "cell_type": "code",
   "execution_count": 32,
   "metadata": {},
   "outputs": [
    {
     "data": {
      "text/plain": [
       "deque([1, 2, 3])"
      ]
     },
     "execution_count": 32,
     "metadata": {},
     "output_type": "execute_result"
    }
   ],
   "source": [
    "dq.append(3) \n",
    "dq"
   ]
  },
  {
   "cell_type": "code",
   "execution_count": 33,
   "metadata": {},
   "outputs": [
    {
     "data": {
      "text/plain": [
       "deque([2, 3, 4])"
      ]
     },
     "execution_count": 33,
     "metadata": {},
     "output_type": "execute_result"
    }
   ],
   "source": [
    "dq.append(4) \n",
    "dq #maximum boyut 3 olduğu için ilki atılmış oldu"
   ]
  },
  {
   "cell_type": "code",
   "execution_count": 34,
   "metadata": {},
   "outputs": [
    {
     "data": {
      "text/plain": [
       "deque([3, 2, 3])"
      ]
     },
     "execution_count": 34,
     "metadata": {},
     "output_type": "execute_result"
    }
   ],
   "source": [
    "dq.appendleft(3)\n",
    "dq\n",
    "# soldan ekledi 4 uçtu :)"
   ]
  },
  {
   "cell_type": "code",
   "execution_count": 35,
   "metadata": {},
   "outputs": [
    {
     "data": {
      "text/plain": [
       "deque([])"
      ]
     },
     "execution_count": 35,
     "metadata": {},
     "output_type": "execute_result"
    }
   ],
   "source": [
    "# dq içini temizlemek için\n",
    "dq.clear()\n",
    "dq"
   ]
  },
  {
   "cell_type": "markdown",
   "metadata": {},
   "source": [
    "## Dictionary "
   ]
  },
  {
   "cell_type": "raw",
   "metadata": {},
   "source": [
    "Python'da sözlükler bir karma veri türüdür.\n",
    "\n",
    "Ayrıca veri bilimindeki pandas kütüphanesinin temelini oluşturur.\n",
    "\n",
    "Veri Bilimi ve Yapay Zeka'da kullanılan temel veri türürdür.\n",
    "\n",
    "Anahtar ve değer çiftlerinden oluşur (key-value)\n",
    "\n",
    "{\"anahtar\":\"değer\"}"
   ]
  },
  {
   "cell_type": "code",
   "execution_count": 36,
   "metadata": {},
   "outputs": [
    {
     "data": {
      "text/plain": [
       "{'Konya': 42, 'İzmir': 35, 'İstanbul': 34}"
      ]
     },
     "execution_count": 36,
     "metadata": {},
     "output_type": "execute_result"
    }
   ],
   "source": [
    "sozluk = {\"Konya\": 42,\n",
    "         \"İzmir\" : 35,\n",
    "         \"İstanbul\": 34}\n",
    "sozluk"
   ]
  },
  {
   "cell_type": "code",
   "execution_count": 37,
   "metadata": {},
   "outputs": [
    {
     "data": {
      "text/plain": [
       "34"
      ]
     },
     "execution_count": 37,
     "metadata": {},
     "output_type": "execute_result"
    }
   ],
   "source": [
    "sozluk[\"İstanbul\"]"
   ]
  },
  {
   "cell_type": "code",
   "execution_count": 38,
   "metadata": {},
   "outputs": [
    {
     "data": {
      "text/plain": [
       "dict_keys(['Konya', 'İzmir', 'İstanbul'])"
      ]
     },
     "execution_count": 38,
     "metadata": {},
     "output_type": "execute_result"
    }
   ],
   "source": [
    "#tüm anahtarlar\n",
    "\n",
    "sozluk.keys()"
   ]
  },
  {
   "cell_type": "code",
   "execution_count": 39,
   "metadata": {},
   "outputs": [
    {
     "data": {
      "text/plain": [
       "dict_values([42, 35, 34])"
      ]
     },
     "execution_count": 39,
     "metadata": {},
     "output_type": "execute_result"
    }
   ],
   "source": [
    "#değerler\n",
    "\n",
    "sozluk.values()"
   ]
  },
  {
   "cell_type": "markdown",
   "metadata": {},
   "source": [
    "## Koşullu İfadeler: if-else statement"
   ]
  },
  {
   "cell_type": "raw",
   "metadata": {},
   "source": [
    "Bir bool ifadesine göre True ya da False olarak değerlendirilmesine bağlı olarak farklı hesaplamalar veya eylemler gerçekleştiren bir ifadedir."
   ]
  },
  {
   "cell_type": "code",
   "execution_count": 40,
   "metadata": {},
   "outputs": [
    {
     "name": "stdout",
     "output_type": "stream",
     "text": [
      "sayi 1 eşittir sayi 2\n"
     ]
    }
   ],
   "source": [
    "# büyük küçük sayi karşılaştırılması\n",
    "\n",
    "sayi1 = 12.0\n",
    "sayi2 = 12.0\n",
    "\n",
    "if sayi1 < sayi2:\n",
    "    print(\"sayi 1 küçüktür sayi 2\")\n",
    "elif sayi1 > sayi2:\n",
    "    print(\"sayi 1 büyüktür sayi 2\")\n",
    "else:\n",
    "    print(\"sayi 1 eşittir sayi 2\")"
   ]
  },
  {
   "cell_type": "code",
   "execution_count": 41,
   "metadata": {},
   "outputs": [
    {
     "name": "stdout",
     "output_type": "stream",
     "text": [
      "32 degeri listenin içerisinde değildir\n"
     ]
    }
   ],
   "source": [
    "liste = [1,2,3,4,5]\n",
    "deger = 32\n",
    "\n",
    "if deger in liste:\n",
    "    print(\"{} degeri listenin içerisindedir\".format(deger))\n",
    "else:\n",
    "    print(\"{} degeri listenin içerisinde değildir\".format(deger))"
   ]
  },
  {
   "cell_type": "code",
   "execution_count": 42,
   "metadata": {},
   "outputs": [],
   "source": [
    "dictionary = {\"Türkiye\": \"Ankara\", \n",
    "             \"İngiltere\": \"Londra\",\n",
    "             \"İspanya\": \"Madrid\"}"
   ]
  },
  {
   "cell_type": "code",
   "execution_count": 44,
   "metadata": {},
   "outputs": [
    {
     "data": {
      "text/plain": [
       "dict_keys(['Türkiye', 'İngiltere', 'İspanya'])"
      ]
     },
     "execution_count": 44,
     "metadata": {},
     "output_type": "execute_result"
    }
   ],
   "source": [
    "keys = dictionary.keys()\n",
    "keys"
   ]
  },
  {
   "cell_type": "code",
   "execution_count": 45,
   "metadata": {},
   "outputs": [
    {
     "data": {
      "text/plain": [
       "'Türkiye'"
      ]
     },
     "execution_count": 45,
     "metadata": {},
     "output_type": "execute_result"
    }
   ],
   "source": [
    "deger = \"Türkiye\"\n",
    "deger"
   ]
  },
  {
   "cell_type": "code",
   "execution_count": 46,
   "metadata": {},
   "outputs": [
    {
     "name": "stdout",
     "output_type": "stream",
     "text": [
      "Evet\n"
     ]
    }
   ],
   "source": [
    "if deger in keys:\n",
    "    print(\"Evet\")\n",
    "else:\n",
    "    print(\"Hayır\")"
   ]
  },
  {
   "cell_type": "code",
   "execution_count": 52,
   "metadata": {},
   "outputs": [
    {
     "name": "stdout",
     "output_type": "stream",
     "text": [
      "Doğru\n"
     ]
    }
   ],
   "source": [
    "bool1 = True\n",
    "bool2 = False\n",
    "\n",
    "if bool1:\n",
    "    print(\"Doğru\")\n",
    "else:\n",
    "    print(\"False\")"
   ]
  },
  {
   "cell_type": "code",
   "execution_count": 53,
   "metadata": {},
   "outputs": [
    {
     "name": "stdout",
     "output_type": "stream",
     "text": [
      "Doğru\n"
     ]
    }
   ],
   "source": [
    "if bool1 or bool2:\n",
    "    print(\"Doğru\")\n",
    "else: print(\"False\")"
   ]
  },
  {
   "cell_type": "code",
   "execution_count": 54,
   "metadata": {},
   "outputs": [
    {
     "name": "stdout",
     "output_type": "stream",
     "text": [
      "False\n"
     ]
    }
   ],
   "source": [
    "if bool1 and bool2:\n",
    "    print(\"Doğru\")\n",
    "else: print(\"False\")"
   ]
  },
  {
   "cell_type": "markdown",
   "metadata": {},
   "source": [
    "## Döngüler: for-while"
   ]
  },
  {
   "cell_type": "raw",
   "metadata": {},
   "source": [
    "Bir dizi üzerinde yineleme yapmak için kullanılır.\n",
    "\n",
    "Bu bir dizi dediğimiz ifadede bir liste, sözlük, tuple, numpy ve pandas veriyapıları veya metin vs. olabilir."
   ]
  },
  {
   "cell_type": "code",
   "execution_count": 55,
   "metadata": {},
   "outputs": [
    {
     "name": "stdout",
     "output_type": "stream",
     "text": [
      "1\n",
      "2\n",
      "3\n",
      "4\n",
      "5\n",
      "6\n",
      "7\n",
      "8\n",
      "9\n",
      "10\n"
     ]
    }
   ],
   "source": [
    "#for döngüsü\n",
    "\n",
    "for i in range(1,11):\n",
    "    print(i)"
   ]
  },
  {
   "cell_type": "code",
   "execution_count": 56,
   "metadata": {},
   "outputs": [
    {
     "data": {
      "text/plain": [
       "101"
      ]
     },
     "execution_count": 56,
     "metadata": {},
     "output_type": "execute_result"
    }
   ],
   "source": [
    "liste = [1,4,5,6,8,3,3,4,67]\n",
    "sum(liste)"
   ]
  },
  {
   "cell_type": "code",
   "execution_count": 59,
   "metadata": {},
   "outputs": [
    {
     "name": "stdout",
     "output_type": "stream",
     "text": [
      "101\n"
     ]
    }
   ],
   "source": [
    "toplam = 0\n",
    "for c in liste:\n",
    "    toplam = toplam + c\n",
    "\n",
    "print(toplam)"
   ]
  },
  {
   "cell_type": "code",
   "execution_count": 60,
   "metadata": {},
   "outputs": [
    {
     "name": "stdout",
     "output_type": "stream",
     "text": [
      "1 2 3\n",
      "3 4 5\n"
     ]
    }
   ],
   "source": [
    "tuple1 = ((1,2,3),(3,4,5))\n",
    "for x, y, z in tuple1:\n",
    "    print(x,y,z)"
   ]
  },
  {
   "cell_type": "code",
   "execution_count": 62,
   "metadata": {},
   "outputs": [
    {
     "name": "stdout",
     "output_type": "stream",
     "text": [
      "0\n",
      "1\n",
      "2\n",
      "3\n"
     ]
    }
   ],
   "source": [
    "# while döngüsü\n",
    "\n",
    "i = 0\n",
    "while i < 4:\n",
    "    print(i)\n",
    "    i = i + 1"
   ]
  },
  {
   "cell_type": "code",
   "execution_count": 64,
   "metadata": {},
   "outputs": [
    {
     "name": "stdout",
     "output_type": "stream",
     "text": [
      "101\n"
     ]
    }
   ],
   "source": [
    "liste = [1,4,5,6,8,3,3,4,67]\n",
    "sinir = len(liste)\n",
    "\n",
    "her = 0\n",
    "hesapla = 0\n",
    "\n",
    "while her < sinir:\n",
    "    hesapla = hesapla + liste[her]\n",
    "    her = her + 1\n",
    "print(hesapla)"
   ]
  },
  {
   "cell_type": "markdown",
   "metadata": {},
   "source": [
    "## Fonksiyonlar"
   ]
  },
  {
   "cell_type": "raw",
   "metadata": {},
   "source": [
    "Karmaşık işlemleri bir araya toplamak ve bu işlemleri tek adımda yapmamızı sağlar.\n",
    "\n",
    "Yapmak istediğimiz işlemler için şablon vazifesi görürler.\n",
    "\n",
    "Fonksiyonlar ile düzenleme yapabiliriz.(Bir veya birkaç adımdan oluşan işlemleri tek bir başlık altında toplamak)"
   ]
  },
  {
   "cell_type": "code",
   "execution_count": 71,
   "metadata": {},
   "outputs": [
    {
     "name": "stdout",
     "output_type": "stream",
     "text": [
      "28.26\n"
     ]
    }
   ],
   "source": [
    "# kullanıcı tarafından tamımlanan fonk.\n",
    "\n",
    "def daireAlan(r):\n",
    "    \"\"\"\n",
    "    Parameters\n",
    "    ----------\n",
    "    r : int - daire yarıçapı\n",
    "    \n",
    "    Returns\n",
    "    -------\n",
    "    daire_alani : float - daire alanı\n",
    "    \"\"\"\n",
    "    pi = 3.14\n",
    "    daire_alani = pi*(r**2)\n",
    "    \n",
    "    # print(daire_alani)\n",
    "    \n",
    "    return daire_alani\n",
    "\n",
    "daireAlanıDegiskeni = daireAlan(3)\n",
    "\n",
    "print(daireAlanıDegiskeni)"
   ]
  },
  {
   "cell_type": "code",
   "execution_count": 72,
   "metadata": {},
   "outputs": [
    {
     "name": "stdout",
     "output_type": "stream",
     "text": [
      "18.84\n"
     ]
    }
   ],
   "source": [
    "# dairenin çevresini hesaplayalım\n",
    "\n",
    "def daireCevre(r, pi = 3.14):\n",
    "    \"\"\"\n",
    "    Parameters\n",
    "    ----------\n",
    "    r : int - daire yarıçapı\n",
    "    pi : float - pi sayısı\n",
    "    \n",
    "    Returns\n",
    "    -------\n",
    "    daire_cevresi : float - daire cevresi\n",
    "    \"\"\"\n",
    "    \n",
    "    daire_cevre = 2*pi*r\n",
    "    \n",
    "    return daire_cevre\n",
    "\n",
    "daireCevre = daireCevre(3)\n",
    "print(daireCevre)"
   ]
  },
  {
   "cell_type": "code",
   "execution_count": 75,
   "metadata": {},
   "outputs": [
    {
     "name": "stdout",
     "output_type": "stream",
     "text": [
      "25\n",
      "5\n"
     ]
    }
   ],
   "source": [
    "katsayi = 5\n",
    "def katsayiCarpimi():\n",
    "    global katsayi\n",
    "    print(katsayi * katsayi)\n",
    "katsayiCarpimi()\n",
    "print(katsayi)"
   ]
  },
  {
   "cell_type": "code",
   "execution_count": 76,
   "metadata": {},
   "outputs": [],
   "source": [
    "# Boş Fonksiyonlar\n",
    "\n",
    "def bos():\n",
    "    pass    "
   ]
  },
  {
   "cell_type": "code",
   "execution_count": 78,
   "metadata": {},
   "outputs": [
    {
     "name": "stdout",
     "output_type": "stream",
     "text": [
      "4\n",
      "[1, 2, 3, 4]\n",
      "[1, 2, 3, 4]\n",
      "4\n",
      "1\n"
     ]
    }
   ],
   "source": [
    "# built in fonksiyon\n",
    "\n",
    "liste = [1,2,3,4]\n",
    "print(len(liste))\n",
    "print(str(liste))\n",
    "\n",
    "liste2 = liste.copy()\n",
    "print(liste2)\n",
    "\n",
    "print(max(liste2))\n",
    "\n",
    "print(min(liste))"
   ]
  },
  {
   "cell_type": "code",
   "execution_count": 79,
   "metadata": {},
   "outputs": [],
   "source": [
    "# lambda fonksiyonlar :\n",
    "# ileri seviye fonksiyonlardır.\n",
    "# küçük ve anonim bir işlemdir"
   ]
  },
  {
   "cell_type": "code",
   "execution_count": 80,
   "metadata": {},
   "outputs": [
    {
     "name": "stdout",
     "output_type": "stream",
     "text": [
      "24\n"
     ]
    }
   ],
   "source": [
    "def carpma(x,y,z):\n",
    "    return x*y*z\n",
    "sonuc = carpma(2,3,4)\n",
    "print(sonuc)"
   ]
  },
  {
   "cell_type": "code",
   "execution_count": 81,
   "metadata": {},
   "outputs": [
    {
     "data": {
      "text/plain": [
       "24"
      ]
     },
     "execution_count": 81,
     "metadata": {},
     "output_type": "execute_result"
    }
   ],
   "source": [
    "# aynı işlem with lambda fonksiyonu\n",
    "\n",
    "fonk_lambda = lambda x,y,z : x*y*z\n",
    "fonk_lambda(2,3,4)"
   ]
  },
  {
   "cell_type": "markdown",
   "metadata": {},
   "source": [
    "## Yield"
   ]
  },
  {
   "cell_type": "raw",
   "metadata": {},
   "source": [
    "iterasyon: yineleme\n",
    "\n",
    "generator yineleyicileri: tüm değerleri bellekte saklamazlar, yeri geldiği zaman anında üretirler\n",
    "\n",
    "yield: işlemin bir generator döndürmesi dışında return gibi kullanılan anahtar sözcük. Bellekten yer kazanmak için kullanmak istediğimiz yöntem."
   ]
  },
  {
   "cell_type": "code",
   "execution_count": 82,
   "metadata": {},
   "outputs": [
    {
     "name": "stdout",
     "output_type": "stream",
     "text": [
      "<generator object createGenerator at 0x000002A080CAF970>\n",
      "1\n",
      "2\n",
      "3\n"
     ]
    }
   ],
   "source": [
    "def createGenerator():\n",
    "    liste = range(1,4)\n",
    "    for i in liste:\n",
    "        yield i\n",
    "generator = createGenerator()\n",
    "print(generator)\n",
    "\n",
    "for i in generator:\n",
    "    print(i)"
   ]
  },
  {
   "cell_type": "markdown",
   "metadata": {},
   "source": [
    "## Numpy Kütüphanesi"
   ]
  },
  {
   "cell_type": "raw",
   "metadata": {},
   "source": [
    "Python programlama dili için bir kütüphanedir.\n",
    "\n",
    "Büyük, çok boyutlu diziler, matrisler için hesaplama kolaylığı sağlar."
   ]
  },
  {
   "cell_type": "code",
   "execution_count": 90,
   "metadata": {},
   "outputs": [],
   "source": [
    "import numpy as np"
   ]
  },
  {
   "cell_type": "code",
   "execution_count": 91,
   "metadata": {},
   "outputs": [
    {
     "name": "stdout",
     "output_type": "stream",
     "text": [
      "[ 1  2  3  4  5  6  7  8  9 10 11 12 13 14 15]\n"
     ]
    }
   ],
   "source": [
    "#1*15 boyutunda bir array-dizi\n",
    "\n",
    "dizi = np.array([1,2,3,4,5,6,7,8,9,10,11,12,13,14,15])\n",
    "print(dizi)"
   ]
  },
  {
   "cell_type": "code",
   "execution_count": 92,
   "metadata": {},
   "outputs": [
    {
     "name": "stdout",
     "output_type": "stream",
     "text": [
      "1\n"
     ]
    }
   ],
   "source": [
    "print(dizi[0]) #index"
   ]
  },
  {
   "cell_type": "code",
   "execution_count": 93,
   "metadata": {},
   "outputs": [
    {
     "name": "stdout",
     "output_type": "stream",
     "text": [
      "[1 2 3 4]\n"
     ]
    }
   ],
   "source": [
    "print(dizi[0:4]) #dizinin ilk 4 elemanı"
   ]
  },
  {
   "cell_type": "code",
   "execution_count": 94,
   "metadata": {},
   "outputs": [
    {
     "name": "stdout",
     "output_type": "stream",
     "text": [
      "[15 14 13 12 11 10  9  8  7  6  5  4  3  2  1]\n"
     ]
    }
   ],
   "source": [
    "print(dizi[::-1]) #dizinin tersi"
   ]
  },
  {
   "cell_type": "code",
   "execution_count": 96,
   "metadata": {},
   "outputs": [
    {
     "data": {
      "text/plain": [
       "array([[ 1,  2,  3,  4,  5],\n",
       "       [ 6,  7,  8,  9, 10]])"
      ]
     },
     "execution_count": 96,
     "metadata": {},
     "output_type": "execute_result"
    }
   ],
   "source": [
    "dizi2D = np.array([[1,2,3,4,5],[6,7,8,9,10]])\n",
    "dizi2D"
   ]
  },
  {
   "cell_type": "code",
   "execution_count": 97,
   "metadata": {},
   "outputs": [
    {
     "name": "stdout",
     "output_type": "stream",
     "text": [
      "7\n"
     ]
    }
   ],
   "source": [
    "#dizinin 1.satır ve 1.sütununda bulunan elemanı\n",
    "print(dizi2D[1,1])"
   ]
  },
  {
   "cell_type": "code",
   "execution_count": 98,
   "metadata": {},
   "outputs": [
    {
     "data": {
      "text/plain": [
       "array([2, 7])"
      ]
     },
     "execution_count": 98,
     "metadata": {},
     "output_type": "execute_result"
    }
   ],
   "source": [
    "#dizinin 1.sütünunun tüm satirlari\n",
    "dizi2D[:,1]"
   ]
  },
  {
   "cell_type": "code",
   "execution_count": 103,
   "metadata": {},
   "outputs": [
    {
     "data": {
      "text/plain": [
       "array([[7, 8, 9]])"
      ]
     },
     "execution_count": 103,
     "metadata": {},
     "output_type": "execute_result"
    }
   ],
   "source": [
    "# dizinin 1.satirindaki 1,2,3. elemanları al\n",
    "dizi2D[1:,1:4]"
   ]
  },
  {
   "cell_type": "code",
   "execution_count": 104,
   "metadata": {},
   "outputs": [
    {
     "data": {
      "text/plain": [
       "array([ 6,  7,  8,  9, 10])"
      ]
     },
     "execution_count": 104,
     "metadata": {},
     "output_type": "execute_result"
    }
   ],
   "source": [
    "#dizinin son satırının tüm sütunlarını al\n",
    "dizi2D[-1,:]"
   ]
  },
  {
   "cell_type": "code",
   "execution_count": 105,
   "metadata": {},
   "outputs": [
    {
     "data": {
      "text/plain": [
       "array([[1, 2, 3],\n",
       "       [4, 5, 6],\n",
       "       [7, 8, 9]])"
      ]
     },
     "execution_count": 105,
     "metadata": {},
     "output_type": "execute_result"
    }
   ],
   "source": [
    "#dizimizi vektör haline getirme:\n",
    "\n",
    "dizi2D = np.array([[1,2,3],[4,5,6],[7,8,9]])\n",
    "dizi2D"
   ]
  },
  {
   "cell_type": "code",
   "execution_count": 106,
   "metadata": {},
   "outputs": [
    {
     "data": {
      "text/plain": [
       "array([1, 2, 3, 4, 5, 6, 7, 8, 9])"
      ]
     },
     "execution_count": 106,
     "metadata": {},
     "output_type": "execute_result"
    }
   ],
   "source": [
    "vektor = dizi2D.ravel()\n",
    "vektor"
   ]
  },
  {
   "cell_type": "code",
   "execution_count": 107,
   "metadata": {},
   "outputs": [
    {
     "data": {
      "text/plain": [
       "8"
      ]
     },
     "execution_count": 107,
     "metadata": {},
     "output_type": "execute_result"
    }
   ],
   "source": [
    "#maximum sayinin indexi\n",
    "\n",
    "max_sayi_indexi = vektor.argmax()\n",
    "max_sayi_indexi"
   ]
  },
  {
   "cell_type": "markdown",
   "metadata": {},
   "source": [
    "## Pandas Kütüphanesi "
   ]
  },
  {
   "cell_type": "raw",
   "metadata": {},
   "source": [
    "Pandas veri işleme ve analizi için Python programlama dilinde yazılmış bir kütüphanedir.\n",
    "\n",
    "Pandas sayesinde hızlı, güçlü, esnek bir analiz yaparız."
   ]
  },
  {
   "cell_type": "code",
   "execution_count": 108,
   "metadata": {},
   "outputs": [],
   "source": [
    "import pandas as pd"
   ]
  },
  {
   "cell_type": "code",
   "execution_count": 111,
   "metadata": {},
   "outputs": [],
   "source": [
    "#sözlük oluştur\n",
    "\n",
    "dictionary = {\"isim\": [\"ali\", \"veli\", \"kenan\", \"murat\", \"ayse\", \"hilal\"],\n",
    "              \"yas\": [20,51,32,42,27,29],\n",
    "              \"maas\":[200,600,500,400,550,350]}"
   ]
  },
  {
   "cell_type": "code",
   "execution_count": 112,
   "metadata": {},
   "outputs": [],
   "source": [
    "veri = pd.DataFrame(dictionary)"
   ]
  },
  {
   "cell_type": "code",
   "execution_count": 113,
   "metadata": {},
   "outputs": [
    {
     "data": {
      "text/html": [
       "<div>\n",
       "<style scoped>\n",
       "    .dataframe tbody tr th:only-of-type {\n",
       "        vertical-align: middle;\n",
       "    }\n",
       "\n",
       "    .dataframe tbody tr th {\n",
       "        vertical-align: top;\n",
       "    }\n",
       "\n",
       "    .dataframe thead th {\n",
       "        text-align: right;\n",
       "    }\n",
       "</style>\n",
       "<table border=\"1\" class=\"dataframe\">\n",
       "  <thead>\n",
       "    <tr style=\"text-align: right;\">\n",
       "      <th></th>\n",
       "      <th>isim</th>\n",
       "      <th>yas</th>\n",
       "      <th>maas</th>\n",
       "    </tr>\n",
       "  </thead>\n",
       "  <tbody>\n",
       "    <tr>\n",
       "      <th>0</th>\n",
       "      <td>ali</td>\n",
       "      <td>20</td>\n",
       "      <td>200</td>\n",
       "    </tr>\n",
       "    <tr>\n",
       "      <th>1</th>\n",
       "      <td>veli</td>\n",
       "      <td>51</td>\n",
       "      <td>600</td>\n",
       "    </tr>\n",
       "    <tr>\n",
       "      <th>2</th>\n",
       "      <td>kenan</td>\n",
       "      <td>32</td>\n",
       "      <td>500</td>\n",
       "    </tr>\n",
       "    <tr>\n",
       "      <th>3</th>\n",
       "      <td>murat</td>\n",
       "      <td>42</td>\n",
       "      <td>400</td>\n",
       "    </tr>\n",
       "    <tr>\n",
       "      <th>4</th>\n",
       "      <td>ayse</td>\n",
       "      <td>27</td>\n",
       "      <td>550</td>\n",
       "    </tr>\n",
       "    <tr>\n",
       "      <th>5</th>\n",
       "      <td>hilal</td>\n",
       "      <td>29</td>\n",
       "      <td>350</td>\n",
       "    </tr>\n",
       "  </tbody>\n",
       "</table>\n",
       "</div>"
      ],
      "text/plain": [
       "    isim  yas  maas\n",
       "0    ali   20   200\n",
       "1   veli   51   600\n",
       "2  kenan   32   500\n",
       "3  murat   42   400\n",
       "4   ayse   27   550\n",
       "5  hilal   29   350"
      ]
     },
     "execution_count": 113,
     "metadata": {},
     "output_type": "execute_result"
    }
   ],
   "source": [
    "veri"
   ]
  },
  {
   "cell_type": "code",
   "execution_count": 114,
   "metadata": {},
   "outputs": [
    {
     "data": {
      "text/html": [
       "<div>\n",
       "<style scoped>\n",
       "    .dataframe tbody tr th:only-of-type {\n",
       "        vertical-align: middle;\n",
       "    }\n",
       "\n",
       "    .dataframe tbody tr th {\n",
       "        vertical-align: top;\n",
       "    }\n",
       "\n",
       "    .dataframe thead th {\n",
       "        text-align: right;\n",
       "    }\n",
       "</style>\n",
       "<table border=\"1\" class=\"dataframe\">\n",
       "  <thead>\n",
       "    <tr style=\"text-align: right;\">\n",
       "      <th></th>\n",
       "      <th>isim</th>\n",
       "      <th>yas</th>\n",
       "      <th>maas</th>\n",
       "    </tr>\n",
       "  </thead>\n",
       "  <tbody>\n",
       "    <tr>\n",
       "      <th>0</th>\n",
       "      <td>ali</td>\n",
       "      <td>20</td>\n",
       "      <td>200</td>\n",
       "    </tr>\n",
       "    <tr>\n",
       "      <th>1</th>\n",
       "      <td>veli</td>\n",
       "      <td>51</td>\n",
       "      <td>600</td>\n",
       "    </tr>\n",
       "    <tr>\n",
       "      <th>2</th>\n",
       "      <td>kenan</td>\n",
       "      <td>32</td>\n",
       "      <td>500</td>\n",
       "    </tr>\n",
       "    <tr>\n",
       "      <th>3</th>\n",
       "      <td>murat</td>\n",
       "      <td>42</td>\n",
       "      <td>400</td>\n",
       "    </tr>\n",
       "    <tr>\n",
       "      <th>4</th>\n",
       "      <td>ayse</td>\n",
       "      <td>27</td>\n",
       "      <td>550</td>\n",
       "    </tr>\n",
       "  </tbody>\n",
       "</table>\n",
       "</div>"
      ],
      "text/plain": [
       "    isim  yas  maas\n",
       "0    ali   20   200\n",
       "1   veli   51   600\n",
       "2  kenan   32   500\n",
       "3  murat   42   400\n",
       "4   ayse   27   550"
      ]
     },
     "execution_count": 114,
     "metadata": {},
     "output_type": "execute_result"
    }
   ],
   "source": [
    "veri.head() #ilk 5 satır"
   ]
  },
  {
   "cell_type": "code",
   "execution_count": 116,
   "metadata": {},
   "outputs": [
    {
     "data": {
      "text/plain": [
       "Index(['isim', 'yas', 'maas'], dtype='object')"
      ]
     },
     "execution_count": 116,
     "metadata": {},
     "output_type": "execute_result"
    }
   ],
   "source": [
    "veri.columns #veri sütunları"
   ]
  },
  {
   "cell_type": "code",
   "execution_count": 117,
   "metadata": {},
   "outputs": [
    {
     "name": "stdout",
     "output_type": "stream",
     "text": [
      "<class 'pandas.core.frame.DataFrame'>\n",
      "RangeIndex: 6 entries, 0 to 5\n",
      "Data columns (total 3 columns):\n",
      " #   Column  Non-Null Count  Dtype \n",
      "---  ------  --------------  ----- \n",
      " 0   isim    6 non-null      object\n",
      " 1   yas     6 non-null      int64 \n",
      " 2   maas    6 non-null      int64 \n",
      "dtypes: int64(2), object(1)\n",
      "memory usage: 272.0+ bytes\n"
     ]
    }
   ],
   "source": [
    "veri.info() #bilgi"
   ]
  },
  {
   "cell_type": "code",
   "execution_count": 118,
   "metadata": {},
   "outputs": [
    {
     "data": {
      "text/html": [
       "<div>\n",
       "<style scoped>\n",
       "    .dataframe tbody tr th:only-of-type {\n",
       "        vertical-align: middle;\n",
       "    }\n",
       "\n",
       "    .dataframe tbody tr th {\n",
       "        vertical-align: top;\n",
       "    }\n",
       "\n",
       "    .dataframe thead th {\n",
       "        text-align: right;\n",
       "    }\n",
       "</style>\n",
       "<table border=\"1\" class=\"dataframe\">\n",
       "  <thead>\n",
       "    <tr style=\"text-align: right;\">\n",
       "      <th></th>\n",
       "      <th>yas</th>\n",
       "      <th>maas</th>\n",
       "    </tr>\n",
       "  </thead>\n",
       "  <tbody>\n",
       "    <tr>\n",
       "      <th>count</th>\n",
       "      <td>6.000000</td>\n",
       "      <td>6.000000</td>\n",
       "    </tr>\n",
       "    <tr>\n",
       "      <th>mean</th>\n",
       "      <td>33.500000</td>\n",
       "      <td>433.333333</td>\n",
       "    </tr>\n",
       "    <tr>\n",
       "      <th>std</th>\n",
       "      <td>11.184811</td>\n",
       "      <td>147.196014</td>\n",
       "    </tr>\n",
       "    <tr>\n",
       "      <th>min</th>\n",
       "      <td>20.000000</td>\n",
       "      <td>200.000000</td>\n",
       "    </tr>\n",
       "    <tr>\n",
       "      <th>25%</th>\n",
       "      <td>27.500000</td>\n",
       "      <td>362.500000</td>\n",
       "    </tr>\n",
       "    <tr>\n",
       "      <th>50%</th>\n",
       "      <td>30.500000</td>\n",
       "      <td>450.000000</td>\n",
       "    </tr>\n",
       "    <tr>\n",
       "      <th>75%</th>\n",
       "      <td>39.500000</td>\n",
       "      <td>537.500000</td>\n",
       "    </tr>\n",
       "    <tr>\n",
       "      <th>max</th>\n",
       "      <td>51.000000</td>\n",
       "      <td>600.000000</td>\n",
       "    </tr>\n",
       "  </tbody>\n",
       "</table>\n",
       "</div>"
      ],
      "text/plain": [
       "             yas        maas\n",
       "count   6.000000    6.000000\n",
       "mean   33.500000  433.333333\n",
       "std    11.184811  147.196014\n",
       "min    20.000000  200.000000\n",
       "25%    27.500000  362.500000\n",
       "50%    30.500000  450.000000\n",
       "75%    39.500000  537.500000\n",
       "max    51.000000  600.000000"
      ]
     },
     "execution_count": 118,
     "metadata": {},
     "output_type": "execute_result"
    }
   ],
   "source": [
    "veri.describe() #betimsel istatistik özellikleri"
   ]
  },
  {
   "cell_type": "code",
   "execution_count": 120,
   "metadata": {},
   "outputs": [
    {
     "data": {
      "text/plain": [
       "0    20\n",
       "1    51\n",
       "2    32\n",
       "3    42\n",
       "4    27\n",
       "5    29\n",
       "Name: yas, dtype: int64"
      ]
     },
     "execution_count": 120,
     "metadata": {},
     "output_type": "execute_result"
    }
   ],
   "source": [
    "#yas sütunu\n",
    "\n",
    "veri[\"yas\"]"
   ]
  },
  {
   "cell_type": "code",
   "execution_count": 122,
   "metadata": {},
   "outputs": [
    {
     "data": {
      "text/html": [
       "<div>\n",
       "<style scoped>\n",
       "    .dataframe tbody tr th:only-of-type {\n",
       "        vertical-align: middle;\n",
       "    }\n",
       "\n",
       "    .dataframe tbody tr th {\n",
       "        vertical-align: top;\n",
       "    }\n",
       "\n",
       "    .dataframe thead th {\n",
       "        text-align: right;\n",
       "    }\n",
       "</style>\n",
       "<table border=\"1\" class=\"dataframe\">\n",
       "  <thead>\n",
       "    <tr style=\"text-align: right;\">\n",
       "      <th></th>\n",
       "      <th>isim</th>\n",
       "      <th>yas</th>\n",
       "      <th>maas</th>\n",
       "      <th>sehir</th>\n",
       "    </tr>\n",
       "  </thead>\n",
       "  <tbody>\n",
       "    <tr>\n",
       "      <th>0</th>\n",
       "      <td>ali</td>\n",
       "      <td>20</td>\n",
       "      <td>200</td>\n",
       "      <td>Ankara</td>\n",
       "    </tr>\n",
       "    <tr>\n",
       "      <th>1</th>\n",
       "      <td>veli</td>\n",
       "      <td>51</td>\n",
       "      <td>600</td>\n",
       "      <td>İstanbul</td>\n",
       "    </tr>\n",
       "    <tr>\n",
       "      <th>2</th>\n",
       "      <td>kenan</td>\n",
       "      <td>32</td>\n",
       "      <td>500</td>\n",
       "      <td>Adana</td>\n",
       "    </tr>\n",
       "    <tr>\n",
       "      <th>3</th>\n",
       "      <td>murat</td>\n",
       "      <td>42</td>\n",
       "      <td>400</td>\n",
       "      <td>Hatay</td>\n",
       "    </tr>\n",
       "    <tr>\n",
       "      <th>4</th>\n",
       "      <td>ayse</td>\n",
       "      <td>27</td>\n",
       "      <td>550</td>\n",
       "      <td>Rize</td>\n",
       "    </tr>\n",
       "    <tr>\n",
       "      <th>5</th>\n",
       "      <td>hilal</td>\n",
       "      <td>29</td>\n",
       "      <td>350</td>\n",
       "      <td>Samsun</td>\n",
       "    </tr>\n",
       "  </tbody>\n",
       "</table>\n",
       "</div>"
      ],
      "text/plain": [
       "    isim  yas  maas     sehir\n",
       "0    ali   20   200    Ankara\n",
       "1   veli   51   600  İstanbul\n",
       "2  kenan   32   500     Adana\n",
       "3  murat   42   400     Hatay\n",
       "4   ayse   27   550      Rize\n",
       "5  hilal   29   350    Samsun"
      ]
     },
     "execution_count": 122,
     "metadata": {},
     "output_type": "execute_result"
    }
   ],
   "source": [
    "#sütun ekelemek\n",
    "\n",
    "veri[\"sehir\"] = [\"Ankara\", \"İstanbul\", \"Adana\", \"Hatay\", \"Rize\", \"Samsun\"]\n",
    "veri"
   ]
  },
  {
   "cell_type": "code",
   "execution_count": 123,
   "metadata": {},
   "outputs": [
    {
     "data": {
      "text/plain": [
       "0    20\n",
       "1    51\n",
       "2    32\n",
       "3    42\n",
       "4    27\n",
       "5    29\n",
       "Name: yas, dtype: int64"
      ]
     },
     "execution_count": 123,
     "metadata": {},
     "output_type": "execute_result"
    }
   ],
   "source": [
    "# yas sütunu\n",
    "veri.loc[:,\"yas\"]"
   ]
  },
  {
   "cell_type": "code",
   "execution_count": 127,
   "metadata": {},
   "outputs": [
    {
     "data": {
      "text/plain": [
       "0    20\n",
       "1    51\n",
       "2    32\n",
       "Name: yas, dtype: int64"
      ]
     },
     "execution_count": 127,
     "metadata": {},
     "output_type": "execute_result"
    }
   ],
   "source": [
    "# yas sütunu içerisinde ilk üç satırı alalım\n",
    "\n",
    "veri.loc[:2, \"yas\"]"
   ]
  },
  {
   "cell_type": "code",
   "execution_count": 128,
   "metadata": {},
   "outputs": [
    {
     "data": {
      "text/html": [
       "<div>\n",
       "<style scoped>\n",
       "    .dataframe tbody tr th:only-of-type {\n",
       "        vertical-align: middle;\n",
       "    }\n",
       "\n",
       "    .dataframe tbody tr th {\n",
       "        vertical-align: top;\n",
       "    }\n",
       "\n",
       "    .dataframe thead th {\n",
       "        text-align: right;\n",
       "    }\n",
       "</style>\n",
       "<table border=\"1\" class=\"dataframe\">\n",
       "  <thead>\n",
       "    <tr style=\"text-align: right;\">\n",
       "      <th></th>\n",
       "      <th>yas</th>\n",
       "      <th>maas</th>\n",
       "      <th>sehir</th>\n",
       "    </tr>\n",
       "  </thead>\n",
       "  <tbody>\n",
       "    <tr>\n",
       "      <th>0</th>\n",
       "      <td>20</td>\n",
       "      <td>200</td>\n",
       "      <td>Ankara</td>\n",
       "    </tr>\n",
       "    <tr>\n",
       "      <th>1</th>\n",
       "      <td>51</td>\n",
       "      <td>600</td>\n",
       "      <td>İstanbul</td>\n",
       "    </tr>\n",
       "    <tr>\n",
       "      <th>2</th>\n",
       "      <td>32</td>\n",
       "      <td>500</td>\n",
       "      <td>Adana</td>\n",
       "    </tr>\n",
       "  </tbody>\n",
       "</table>\n",
       "</div>"
      ],
      "text/plain": [
       "   yas  maas     sehir\n",
       "0   20   200    Ankara\n",
       "1   51   600  İstanbul\n",
       "2   32   500     Adana"
      ]
     },
     "execution_count": 128,
     "metadata": {},
     "output_type": "execute_result"
    }
   ],
   "source": [
    "#yas ve sehir arası\n",
    "veri.loc[:2, \"yas\":\"sehir\"]"
   ]
  },
  {
   "cell_type": "code",
   "execution_count": 130,
   "metadata": {},
   "outputs": [
    {
     "data": {
      "text/html": [
       "<div>\n",
       "<style scoped>\n",
       "    .dataframe tbody tr th:only-of-type {\n",
       "        vertical-align: middle;\n",
       "    }\n",
       "\n",
       "    .dataframe tbody tr th {\n",
       "        vertical-align: top;\n",
       "    }\n",
       "\n",
       "    .dataframe thead th {\n",
       "        text-align: right;\n",
       "    }\n",
       "</style>\n",
       "<table border=\"1\" class=\"dataframe\">\n",
       "  <thead>\n",
       "    <tr style=\"text-align: right;\">\n",
       "      <th></th>\n",
       "      <th>isim</th>\n",
       "      <th>yas</th>\n",
       "    </tr>\n",
       "  </thead>\n",
       "  <tbody>\n",
       "    <tr>\n",
       "      <th>0</th>\n",
       "      <td>ali</td>\n",
       "      <td>20</td>\n",
       "    </tr>\n",
       "    <tr>\n",
       "      <th>1</th>\n",
       "      <td>veli</td>\n",
       "      <td>51</td>\n",
       "    </tr>\n",
       "    <tr>\n",
       "      <th>2</th>\n",
       "      <td>kenan</td>\n",
       "      <td>32</td>\n",
       "    </tr>\n",
       "  </tbody>\n",
       "</table>\n",
       "</div>"
      ],
      "text/plain": [
       "    isim  yas\n",
       "0    ali   20\n",
       "1   veli   51\n",
       "2  kenan   32"
      ]
     },
     "execution_count": 130,
     "metadata": {},
     "output_type": "execute_result"
    }
   ],
   "source": [
    "#ilk 3 satır ama isim ve yaşı alalım\n",
    "\n",
    "veri.loc[:2, \"isim\":\"yas\"]"
   ]
  },
  {
   "cell_type": "code",
   "execution_count": 131,
   "metadata": {},
   "outputs": [
    {
     "data": {
      "text/html": [
       "<div>\n",
       "<style scoped>\n",
       "    .dataframe tbody tr th:only-of-type {\n",
       "        vertical-align: middle;\n",
       "    }\n",
       "\n",
       "    .dataframe tbody tr th {\n",
       "        vertical-align: top;\n",
       "    }\n",
       "\n",
       "    .dataframe thead th {\n",
       "        text-align: right;\n",
       "    }\n",
       "</style>\n",
       "<table border=\"1\" class=\"dataframe\">\n",
       "  <thead>\n",
       "    <tr style=\"text-align: right;\">\n",
       "      <th></th>\n",
       "      <th>isim</th>\n",
       "      <th>yas</th>\n",
       "      <th>maas</th>\n",
       "      <th>sehir</th>\n",
       "    </tr>\n",
       "  </thead>\n",
       "  <tbody>\n",
       "    <tr>\n",
       "      <th>5</th>\n",
       "      <td>hilal</td>\n",
       "      <td>29</td>\n",
       "      <td>350</td>\n",
       "      <td>Samsun</td>\n",
       "    </tr>\n",
       "    <tr>\n",
       "      <th>4</th>\n",
       "      <td>ayse</td>\n",
       "      <td>27</td>\n",
       "      <td>550</td>\n",
       "      <td>Rize</td>\n",
       "    </tr>\n",
       "    <tr>\n",
       "      <th>3</th>\n",
       "      <td>murat</td>\n",
       "      <td>42</td>\n",
       "      <td>400</td>\n",
       "      <td>Hatay</td>\n",
       "    </tr>\n",
       "    <tr>\n",
       "      <th>2</th>\n",
       "      <td>kenan</td>\n",
       "      <td>32</td>\n",
       "      <td>500</td>\n",
       "      <td>Adana</td>\n",
       "    </tr>\n",
       "    <tr>\n",
       "      <th>1</th>\n",
       "      <td>veli</td>\n",
       "      <td>51</td>\n",
       "      <td>600</td>\n",
       "      <td>İstanbul</td>\n",
       "    </tr>\n",
       "    <tr>\n",
       "      <th>0</th>\n",
       "      <td>ali</td>\n",
       "      <td>20</td>\n",
       "      <td>200</td>\n",
       "      <td>Ankara</td>\n",
       "    </tr>\n",
       "  </tbody>\n",
       "</table>\n",
       "</div>"
      ],
      "text/plain": [
       "    isim  yas  maas     sehir\n",
       "5  hilal   29   350    Samsun\n",
       "4   ayse   27   550      Rize\n",
       "3  murat   42   400     Hatay\n",
       "2  kenan   32   500     Adana\n",
       "1   veli   51   600  İstanbul\n",
       "0    ali   20   200    Ankara"
      ]
     },
     "execution_count": 131,
     "metadata": {},
     "output_type": "execute_result"
    }
   ],
   "source": [
    "#satirlari tersten yazdıralım\n",
    "veri.loc[::-1,:]"
   ]
  },
  {
   "cell_type": "code",
   "execution_count": 132,
   "metadata": {},
   "outputs": [],
   "source": [
    "# yas sütunu with iloc"
   ]
  },
  {
   "cell_type": "code",
   "execution_count": 133,
   "metadata": {},
   "outputs": [
    {
     "data": {
      "text/plain": [
       "0    20\n",
       "1    51\n",
       "2    32\n",
       "3    42\n",
       "4    27\n",
       "5    29\n",
       "Name: yas, dtype: int64"
      ]
     },
     "execution_count": 133,
     "metadata": {},
     "output_type": "execute_result"
    }
   ],
   "source": [
    "veri.iloc[:,1]"
   ]
  },
  {
   "cell_type": "code",
   "execution_count": 135,
   "metadata": {},
   "outputs": [
    {
     "data": {
      "text/html": [
       "<div>\n",
       "<style scoped>\n",
       "    .dataframe tbody tr th:only-of-type {\n",
       "        vertical-align: middle;\n",
       "    }\n",
       "\n",
       "    .dataframe tbody tr th {\n",
       "        vertical-align: top;\n",
       "    }\n",
       "\n",
       "    .dataframe thead th {\n",
       "        text-align: right;\n",
       "    }\n",
       "</style>\n",
       "<table border=\"1\" class=\"dataframe\">\n",
       "  <thead>\n",
       "    <tr style=\"text-align: right;\">\n",
       "      <th></th>\n",
       "      <th>isim</th>\n",
       "      <th>yas</th>\n",
       "    </tr>\n",
       "  </thead>\n",
       "  <tbody>\n",
       "    <tr>\n",
       "      <th>0</th>\n",
       "      <td>ali</td>\n",
       "      <td>20</td>\n",
       "    </tr>\n",
       "    <tr>\n",
       "      <th>1</th>\n",
       "      <td>veli</td>\n",
       "      <td>51</td>\n",
       "    </tr>\n",
       "    <tr>\n",
       "      <th>2</th>\n",
       "      <td>kenan</td>\n",
       "      <td>32</td>\n",
       "    </tr>\n",
       "  </tbody>\n",
       "</table>\n",
       "</div>"
      ],
      "text/plain": [
       "    isim  yas\n",
       "0    ali   20\n",
       "1   veli   51\n",
       "2  kenan   32"
      ]
     },
     "execution_count": 135,
     "metadata": {},
     "output_type": "execute_result"
    }
   ],
   "source": [
    "#ilk 3 satir yas ve isim\n",
    "\n",
    "veri.iloc[:3,[0,1]]"
   ]
  },
  {
   "cell_type": "code",
   "execution_count": 137,
   "metadata": {},
   "outputs": [
    {
     "data": {
      "text/html": [
       "<div>\n",
       "<style scoped>\n",
       "    .dataframe tbody tr th:only-of-type {\n",
       "        vertical-align: middle;\n",
       "    }\n",
       "\n",
       "    .dataframe tbody tr th {\n",
       "        vertical-align: top;\n",
       "    }\n",
       "\n",
       "    .dataframe thead th {\n",
       "        text-align: right;\n",
       "    }\n",
       "</style>\n",
       "<table border=\"1\" class=\"dataframe\">\n",
       "  <thead>\n",
       "    <tr style=\"text-align: right;\">\n",
       "      <th></th>\n",
       "      <th>isim</th>\n",
       "      <th>yas</th>\n",
       "      <th>maas</th>\n",
       "      <th>sehir</th>\n",
       "    </tr>\n",
       "  </thead>\n",
       "  <tbody>\n",
       "    <tr>\n",
       "      <th>0</th>\n",
       "      <td>ali</td>\n",
       "      <td>20</td>\n",
       "      <td>200</td>\n",
       "      <td>Ankara</td>\n",
       "    </tr>\n",
       "    <tr>\n",
       "      <th>1</th>\n",
       "      <td>veli</td>\n",
       "      <td>51</td>\n",
       "      <td>600</td>\n",
       "      <td>Hatay</td>\n",
       "    </tr>\n",
       "    <tr>\n",
       "      <th>2</th>\n",
       "      <td>kenan</td>\n",
       "      <td>32</td>\n",
       "      <td>500</td>\n",
       "      <td>Adana</td>\n",
       "    </tr>\n",
       "    <tr>\n",
       "      <th>3</th>\n",
       "      <td>murat</td>\n",
       "      <td>42</td>\n",
       "      <td>400</td>\n",
       "      <td>Hatay</td>\n",
       "    </tr>\n",
       "    <tr>\n",
       "      <th>4</th>\n",
       "      <td>ayse</td>\n",
       "      <td>27</td>\n",
       "      <td>550</td>\n",
       "      <td>Rize</td>\n",
       "    </tr>\n",
       "    <tr>\n",
       "      <th>5</th>\n",
       "      <td>hilal</td>\n",
       "      <td>29</td>\n",
       "      <td>350</td>\n",
       "      <td>Samsun</td>\n",
       "    </tr>\n",
       "  </tbody>\n",
       "</table>\n",
       "</div>"
      ],
      "text/plain": [
       "    isim  yas  maas   sehir\n",
       "0    ali   20   200  Ankara\n",
       "1   veli   51   600   Hatay\n",
       "2  kenan   32   500   Adana\n",
       "3  murat   42   400   Hatay\n",
       "4   ayse   27   550    Rize\n",
       "5  hilal   29   350  Samsun"
      ]
     },
     "execution_count": 137,
     "metadata": {},
     "output_type": "execute_result"
    }
   ],
   "source": [
    "# Filtreleme\n",
    "dictionary = {\"isim\": [\"ali\", \"veli\", \"kenan\", \"murat\", \"ayse\", \"hilal\"],\n",
    "              \"yas\": [20,51,32,42,27,29],\n",
    "              \"maas\":[200,600,500,400,550,350],\n",
    "              \"sehir\" : [\"Ankara\", \"Hatay\", \"Adana\", \"Hatay\", \"Rize\", \"Samsun\"]\n",
    "             }\n",
    "veri = pd.DataFrame(dictionary)\n",
    "veri"
   ]
  },
  {
   "cell_type": "code",
   "execution_count": 140,
   "metadata": {},
   "outputs": [
    {
     "data": {
      "text/plain": [
       "0    False\n",
       "1     True\n",
       "2     True\n",
       "3     True\n",
       "4     True\n",
       "5     True\n",
       "Name: yas, dtype: bool"
      ]
     },
     "execution_count": 140,
     "metadata": {},
     "output_type": "execute_result"
    }
   ],
   "source": [
    "#ilk olarak yasa göre bir filtre yas > 22\n",
    "\n",
    "filtre1 = veri.yas > 22\n",
    "filtre1"
   ]
  },
  {
   "cell_type": "code",
   "execution_count": 141,
   "metadata": {},
   "outputs": [
    {
     "data": {
      "text/html": [
       "<div>\n",
       "<style scoped>\n",
       "    .dataframe tbody tr th:only-of-type {\n",
       "        vertical-align: middle;\n",
       "    }\n",
       "\n",
       "    .dataframe tbody tr th {\n",
       "        vertical-align: top;\n",
       "    }\n",
       "\n",
       "    .dataframe thead th {\n",
       "        text-align: right;\n",
       "    }\n",
       "</style>\n",
       "<table border=\"1\" class=\"dataframe\">\n",
       "  <thead>\n",
       "    <tr style=\"text-align: right;\">\n",
       "      <th></th>\n",
       "      <th>isim</th>\n",
       "      <th>yas</th>\n",
       "      <th>maas</th>\n",
       "      <th>sehir</th>\n",
       "    </tr>\n",
       "  </thead>\n",
       "  <tbody>\n",
       "    <tr>\n",
       "      <th>1</th>\n",
       "      <td>veli</td>\n",
       "      <td>51</td>\n",
       "      <td>600</td>\n",
       "      <td>Hatay</td>\n",
       "    </tr>\n",
       "    <tr>\n",
       "      <th>2</th>\n",
       "      <td>kenan</td>\n",
       "      <td>32</td>\n",
       "      <td>500</td>\n",
       "      <td>Adana</td>\n",
       "    </tr>\n",
       "    <tr>\n",
       "      <th>3</th>\n",
       "      <td>murat</td>\n",
       "      <td>42</td>\n",
       "      <td>400</td>\n",
       "      <td>Hatay</td>\n",
       "    </tr>\n",
       "    <tr>\n",
       "      <th>4</th>\n",
       "      <td>ayse</td>\n",
       "      <td>27</td>\n",
       "      <td>550</td>\n",
       "      <td>Rize</td>\n",
       "    </tr>\n",
       "    <tr>\n",
       "      <th>5</th>\n",
       "      <td>hilal</td>\n",
       "      <td>29</td>\n",
       "      <td>350</td>\n",
       "      <td>Samsun</td>\n",
       "    </tr>\n",
       "  </tbody>\n",
       "</table>\n",
       "</div>"
      ],
      "text/plain": [
       "    isim  yas  maas   sehir\n",
       "1   veli   51   600   Hatay\n",
       "2  kenan   32   500   Adana\n",
       "3  murat   42   400   Hatay\n",
       "4   ayse   27   550    Rize\n",
       "5  hilal   29   350  Samsun"
      ]
     },
     "execution_count": 141,
     "metadata": {},
     "output_type": "execute_result"
    }
   ],
   "source": [
    "filtrelenmis_veri = veri[filtre1]\n",
    "filtrelenmis_veri"
   ]
  },
  {
   "cell_type": "code",
   "execution_count": 142,
   "metadata": {},
   "outputs": [
    {
     "data": {
      "text/plain": [
       "33.5"
      ]
     },
     "execution_count": 142,
     "metadata": {},
     "output_type": "execute_result"
    }
   ],
   "source": [
    "#ortalama yas\n",
    "\n",
    "ort_yas = veri.yas.mean()\n",
    "ort_yas"
   ]
  },
  {
   "cell_type": "code",
   "execution_count": 143,
   "metadata": {},
   "outputs": [
    {
     "data": {
      "text/html": [
       "<div>\n",
       "<style scoped>\n",
       "    .dataframe tbody tr th:only-of-type {\n",
       "        vertical-align: middle;\n",
       "    }\n",
       "\n",
       "    .dataframe tbody tr th {\n",
       "        vertical-align: top;\n",
       "    }\n",
       "\n",
       "    .dataframe thead th {\n",
       "        text-align: right;\n",
       "    }\n",
       "</style>\n",
       "<table border=\"1\" class=\"dataframe\">\n",
       "  <thead>\n",
       "    <tr style=\"text-align: right;\">\n",
       "      <th></th>\n",
       "      <th>isim</th>\n",
       "      <th>yas</th>\n",
       "      <th>maas</th>\n",
       "      <th>sehir</th>\n",
       "      <th>yas_grubu</th>\n",
       "    </tr>\n",
       "  </thead>\n",
       "  <tbody>\n",
       "    <tr>\n",
       "      <th>0</th>\n",
       "      <td>ali</td>\n",
       "      <td>20</td>\n",
       "      <td>200</td>\n",
       "      <td>Ankara</td>\n",
       "      <td>kucuk</td>\n",
       "    </tr>\n",
       "    <tr>\n",
       "      <th>1</th>\n",
       "      <td>veli</td>\n",
       "      <td>51</td>\n",
       "      <td>600</td>\n",
       "      <td>Hatay</td>\n",
       "      <td>buyuk</td>\n",
       "    </tr>\n",
       "    <tr>\n",
       "      <th>2</th>\n",
       "      <td>kenan</td>\n",
       "      <td>32</td>\n",
       "      <td>500</td>\n",
       "      <td>Adana</td>\n",
       "      <td>kucuk</td>\n",
       "    </tr>\n",
       "    <tr>\n",
       "      <th>3</th>\n",
       "      <td>murat</td>\n",
       "      <td>42</td>\n",
       "      <td>400</td>\n",
       "      <td>Hatay</td>\n",
       "      <td>buyuk</td>\n",
       "    </tr>\n",
       "    <tr>\n",
       "      <th>4</th>\n",
       "      <td>ayse</td>\n",
       "      <td>27</td>\n",
       "      <td>550</td>\n",
       "      <td>Rize</td>\n",
       "      <td>kucuk</td>\n",
       "    </tr>\n",
       "    <tr>\n",
       "      <th>5</th>\n",
       "      <td>hilal</td>\n",
       "      <td>29</td>\n",
       "      <td>350</td>\n",
       "      <td>Samsun</td>\n",
       "      <td>kucuk</td>\n",
       "    </tr>\n",
       "  </tbody>\n",
       "</table>\n",
       "</div>"
      ],
      "text/plain": [
       "    isim  yas  maas   sehir yas_grubu\n",
       "0    ali   20   200  Ankara     kucuk\n",
       "1   veli   51   600   Hatay     buyuk\n",
       "2  kenan   32   500   Adana     kucuk\n",
       "3  murat   42   400   Hatay     buyuk\n",
       "4   ayse   27   550    Rize     kucuk\n",
       "5  hilal   29   350  Samsun     kucuk"
      ]
     },
     "execution_count": 143,
     "metadata": {},
     "output_type": "execute_result"
    }
   ],
   "source": [
    "veri[\"yas_grubu\"] = [\"kucuk\" if ort_yas > i else \"buyuk\" for i in veri.yas]\n",
    "veri"
   ]
  },
  {
   "cell_type": "code",
   "execution_count": 146,
   "metadata": {},
   "outputs": [],
   "source": [
    "#birleştirme\n",
    "sozluk1 = {\"isim\": [\"ali\", \"veli\", \"kenan\"],\n",
    "              \"yas\": [20,51,32],\n",
    "              \"sehir\" : [\"Ankara\", \"Hatay\", \"Adana\"]\n",
    "             }\n",
    "veri1  = pd.DataFrame(sozluk1)\n",
    "\n",
    "sozluk2 = {\"isim\": [\"murat\", \"ayse\", \"hilal\"],\n",
    "              \"yas\": [42,27,29],\n",
    "              \"sehir\" : [\"Hatay\", \"Rize\", \"Samsun\"]\n",
    "             }\n",
    "veri2  = pd.DataFrame(sozluk2)"
   ]
  },
  {
   "cell_type": "code",
   "execution_count": 148,
   "metadata": {},
   "outputs": [
    {
     "data": {
      "text/html": [
       "<div>\n",
       "<style scoped>\n",
       "    .dataframe tbody tr th:only-of-type {\n",
       "        vertical-align: middle;\n",
       "    }\n",
       "\n",
       "    .dataframe tbody tr th {\n",
       "        vertical-align: top;\n",
       "    }\n",
       "\n",
       "    .dataframe thead th {\n",
       "        text-align: right;\n",
       "    }\n",
       "</style>\n",
       "<table border=\"1\" class=\"dataframe\">\n",
       "  <thead>\n",
       "    <tr style=\"text-align: right;\">\n",
       "      <th></th>\n",
       "      <th>isim</th>\n",
       "      <th>yas</th>\n",
       "      <th>sehir</th>\n",
       "    </tr>\n",
       "  </thead>\n",
       "  <tbody>\n",
       "    <tr>\n",
       "      <th>0</th>\n",
       "      <td>ali</td>\n",
       "      <td>20</td>\n",
       "      <td>Ankara</td>\n",
       "    </tr>\n",
       "    <tr>\n",
       "      <th>1</th>\n",
       "      <td>veli</td>\n",
       "      <td>51</td>\n",
       "      <td>Hatay</td>\n",
       "    </tr>\n",
       "    <tr>\n",
       "      <th>2</th>\n",
       "      <td>kenan</td>\n",
       "      <td>32</td>\n",
       "      <td>Adana</td>\n",
       "    </tr>\n",
       "    <tr>\n",
       "      <th>0</th>\n",
       "      <td>murat</td>\n",
       "      <td>42</td>\n",
       "      <td>Hatay</td>\n",
       "    </tr>\n",
       "    <tr>\n",
       "      <th>1</th>\n",
       "      <td>ayse</td>\n",
       "      <td>27</td>\n",
       "      <td>Rize</td>\n",
       "    </tr>\n",
       "    <tr>\n",
       "      <th>2</th>\n",
       "      <td>hilal</td>\n",
       "      <td>29</td>\n",
       "      <td>Samsun</td>\n",
       "    </tr>\n",
       "  </tbody>\n",
       "</table>\n",
       "</div>"
      ],
      "text/plain": [
       "    isim  yas   sehir\n",
       "0    ali   20  Ankara\n",
       "1   veli   51   Hatay\n",
       "2  kenan   32   Adana\n",
       "0  murat   42   Hatay\n",
       "1   ayse   27    Rize\n",
       "2  hilal   29  Samsun"
      ]
     },
     "execution_count": 148,
     "metadata": {},
     "output_type": "execute_result"
    }
   ],
   "source": [
    "#dikeyde birleştirme\n",
    "veri_dikey = pd.concat([veri1, veri2], axis = 0)\n",
    "veri_dikey"
   ]
  },
  {
   "cell_type": "code",
   "execution_count": 149,
   "metadata": {},
   "outputs": [
    {
     "data": {
      "text/html": [
       "<div>\n",
       "<style scoped>\n",
       "    .dataframe tbody tr th:only-of-type {\n",
       "        vertical-align: middle;\n",
       "    }\n",
       "\n",
       "    .dataframe tbody tr th {\n",
       "        vertical-align: top;\n",
       "    }\n",
       "\n",
       "    .dataframe thead th {\n",
       "        text-align: right;\n",
       "    }\n",
       "</style>\n",
       "<table border=\"1\" class=\"dataframe\">\n",
       "  <thead>\n",
       "    <tr style=\"text-align: right;\">\n",
       "      <th></th>\n",
       "      <th>isim</th>\n",
       "      <th>yas</th>\n",
       "      <th>sehir</th>\n",
       "      <th>isim</th>\n",
       "      <th>yas</th>\n",
       "      <th>sehir</th>\n",
       "    </tr>\n",
       "  </thead>\n",
       "  <tbody>\n",
       "    <tr>\n",
       "      <th>0</th>\n",
       "      <td>ali</td>\n",
       "      <td>20</td>\n",
       "      <td>Ankara</td>\n",
       "      <td>murat</td>\n",
       "      <td>42</td>\n",
       "      <td>Hatay</td>\n",
       "    </tr>\n",
       "    <tr>\n",
       "      <th>1</th>\n",
       "      <td>veli</td>\n",
       "      <td>51</td>\n",
       "      <td>Hatay</td>\n",
       "      <td>ayse</td>\n",
       "      <td>27</td>\n",
       "      <td>Rize</td>\n",
       "    </tr>\n",
       "    <tr>\n",
       "      <th>2</th>\n",
       "      <td>kenan</td>\n",
       "      <td>32</td>\n",
       "      <td>Adana</td>\n",
       "      <td>hilal</td>\n",
       "      <td>29</td>\n",
       "      <td>Samsun</td>\n",
       "    </tr>\n",
       "  </tbody>\n",
       "</table>\n",
       "</div>"
      ],
      "text/plain": [
       "    isim  yas   sehir   isim  yas   sehir\n",
       "0    ali   20  Ankara  murat   42   Hatay\n",
       "1   veli   51   Hatay   ayse   27    Rize\n",
       "2  kenan   32   Adana  hilal   29  Samsun"
      ]
     },
     "execution_count": 149,
     "metadata": {},
     "output_type": "execute_result"
    }
   ],
   "source": [
    "#yatay birleştirme\n",
    "veri_yatay = pd.concat([veri1, veri2], axis = 1)\n",
    "veri_yatay"
   ]
  },
  {
   "cell_type": "code",
   "execution_count": 150,
   "metadata": {},
   "outputs": [],
   "source": [
    "# yatay da birleştirmek bunda mantıklı değil sadece göstermek amaçlı\n",
    "# farklı sütunlara sahipsek yatayda, aynı sütunlara sahipsek dikeyde daha mantıklı."
   ]
  },
  {
   "cell_type": "markdown",
   "metadata": {},
   "source": [
    "## Matplotlib Kütüphanesi"
   ]
  },
  {
   "cell_type": "raw",
   "metadata": {},
   "source": [
    "Görselleştirme"
   ]
  },
  {
   "cell_type": "code",
   "execution_count": 153,
   "metadata": {},
   "outputs": [],
   "source": [
    "import numpy as np\n",
    "import matplotlib.pyplot as plt"
   ]
  },
  {
   "cell_type": "code",
   "execution_count": 162,
   "metadata": {},
   "outputs": [
    {
     "data": {
      "image/png": "[encoded data removed]",
      "text/plain": [
       "<Figure size 432x288 with 1 Axes>"
      ]
     },
     "metadata": {
      "needs_background": "light"
     },
     "output_type": "display_data"
    }
   ],
   "source": [
    "x = np.array([1,2,3,4])\n",
    "y = np.array([4,3,2,1])\n",
    "\n",
    "plt.figure()  #boş bir tane ekran oluşturur\n",
    "plt.plot(x,y, color = \"red\", alpha = 0.7, label = \"line\") # figure içine plotları ekliyoruz. alpha = saydamlık, label = line plot görünmesi için plt.legend() \n",
    "plt.scatter(x,y, color = \"blue\", alpha = 0.4, label = \"scatter\")\n",
    "plt.title(\"Matplotlib\") #başlık\n",
    "plt.xlabel(\"x\") #x eksenine isim\n",
    "plt.ylabel(\"y\") #y eksenine isim\n",
    "plt.grid(True) #giridlere bölelim daha güzel görünmesi için\n",
    "plt.xticks([0,1,2,3,4,5]) # x ekseninin kalınlığı arttıralım daha güzel görünmesi için\n",
    "plt.legend()\n",
    "plt.show()  #bir sonraki yapacağım grafikler yukarıda açtığım figure un içerisine karısabilir. o yüzden;\n",
    "# plt.figure'u açma\n",
    "#plt.show() u kapatma olarak düşünebiliriz"
   ]
  },
  {
   "cell_type": "code",
   "execution_count": 165,
   "metadata": {},
   "outputs": [
    {
     "data": {
      "text/plain": [
       "Text(0.5, 0, 'sub-2 x')"
      ]
     },
     "execution_count": 165,
     "metadata": {},
     "output_type": "execute_result"
    },
    {
     "data": {
      "image/png": "[encoded data removed]",
      "text/plain": [
       "<Figure size 648x504 with 2 Axes>"
      ]
     },
     "metadata": {
      "needs_background": "light"
     },
     "output_type": "display_data"
    }
   ],
   "source": [
    "# Birden fazla plotu tek bir figure içine çizdirmeyi öğrenelim;\n",
    "fig, axes = plt.subplots(2,1, figsize = (9,7))\n",
    "fig.subplots_adjust(hspace = 0.5)\n",
    "\n",
    "x = [1,2,3,4,5,6,7,8,9,10]\n",
    "y = [10,9,8,7,6,5,4,3,2,1]\n",
    "\n",
    "axes[0].scatter(x,y)\n",
    "axes[0].set_title(\"sub-1\")\n",
    "axes[0].set_ylabel(\"sub-1 y\")\n",
    "axes[0].set_xlabel(\"sub-1 x\")\n",
    "\n",
    "axes[1].scatter(y,x)\n",
    "axes[1].set_title(\"sub-2\")\n",
    "axes[1].set_ylabel(\"sub-2 y\")\n",
    "axes[1].set_xlabel(\"sub-2 x\")"
   ]
  },
  {
   "cell_type": "code",
   "execution_count": 174,
   "metadata": {},
   "outputs": [
    {
     "data": {
      "image/png": "[encoded data removed]",
      "text/plain": [
       "<Figure size 432x288 with 1 Axes>"
      ]
     },
     "metadata": {
      "needs_background": "light"
     },
     "output_type": "display_data"
    }
   ],
   "source": [
    "# random sayılardan bir resim oluşturalım: \n",
    "plt.figure()\n",
    "img  = np.random.random((50,50))\n",
    "plt.imshow(img, cmap = \"gray\") #cmap = \"gray\" 0 değerlerini siyah a 1 değerlerini beyaz a yakın yap demek\n",
    "#0.5 değeri ise tam \"gray\"\n",
    "plt.axis(\"off\") # x ve y eksenindeki değerlerin kapatılması\n",
    "plt.show()"
   ]
  },
  {
   "cell_type": "markdown",
   "metadata": {},
   "source": [
    "## OS Kütüphanesi "
   ]
  },
  {
   "cell_type": "raw",
   "metadata": {},
   "source": [
    "Bilgisayarımızın içinde bulunan klasörlerde dolaşmamızı sağlayan ya da resimleri içeriye yüklerken, kaydederken yararlanacağımız kütüphanedir"
   ]
  },
  {
   "cell_type": "code",
   "execution_count": 175,
   "metadata": {},
   "outputs": [
    {
     "name": "stdout",
     "output_type": "stream",
     "text": [
      "nt\n"
     ]
    }
   ],
   "source": [
    "import os #kütüphaneyi içeriye aktaralım\n",
    "\n",
    "print(os.name) #bigisayarımızın işletim sistemine bakıyoruz benimki windows olduğu için \"nt\" çıktı"
   ]
  },
  {
   "cell_type": "code",
   "execution_count": 176,
   "metadata": {},
   "outputs": [
    {
     "name": "stdout",
     "output_type": "stream",
     "text": [
      "C:\\Users\\Lenovo\\Deep Learning ile Görüntü İşleme\n"
     ]
    }
   ],
   "source": [
    "# içerisinde bulunduğumuz klasöre göz atalım;\n",
    "currentDir = os.getcwd()\n",
    "print(currentDir)"
   ]
  },
  {
   "cell_type": "code",
   "execution_count": 178,
   "metadata": {},
   "outputs": [],
   "source": [
    "#new folder\n",
    "folder_name = \"new_folder\"\n",
    "os.mkdir(folder_name)"
   ]
  },
  {
   "cell_type": "code",
   "execution_count": 179,
   "metadata": {},
   "outputs": [],
   "source": [
    "#yeni oluşturduğumuz dosyanın ismini değiştirelim;\n",
    "new_folder_name = \"new_folder_2\"\n",
    "os.rename(folder_name, new_folder_name)"
   ]
  },
  {
   "cell_type": "code",
   "execution_count": 180,
   "metadata": {},
   "outputs": [
    {
     "data": {
      "text/plain": [
       "'C:\\\\Users\\\\Lenovo\\\\Deep Learning ile Görüntü İşleme\\\\new_folder_2'"
      ]
     },
     "execution_count": 180,
     "metadata": {},
     "output_type": "execute_result"
    }
   ],
   "source": [
    "#farklı bir klasörün içerisine girelim;\n",
    "os.chdir(currentDir+\"\\\\\"+new_folder_name)\n",
    "os.getcwd()"
   ]
  },
  {
   "cell_type": "code",
   "execution_count": 181,
   "metadata": {},
   "outputs": [
    {
     "data": {
      "text/plain": [
       "'C:\\\\Users\\\\Lenovo\\\\Deep Learning ile Görüntü İşleme'"
      ]
     },
     "execution_count": 181,
     "metadata": {},
     "output_type": "execute_result"
    }
   ],
   "source": [
    "os.chdir(currentDir)\n",
    "os.getcwd()"
   ]
  },
  {
   "cell_type": "code",
   "execution_count": 183,
   "metadata": {},
   "outputs": [
    {
     "data": {
      "text/plain": [
       "['.ipynb_checkpoints', 'new_folder_2', 'python.ipynb']"
      ]
     },
     "execution_count": 183,
     "metadata": {},
     "output_type": "execute_result"
    }
   ],
   "source": [
    "files = os.listdir()\n",
    "files"
   ]
  },
  {
   "cell_type": "code",
   "execution_count": 185,
   "metadata": {},
   "outputs": [],
   "source": [
    "for f in files:\n",
    "    if f.endswith(\".py\"):\n",
    "        print(f)"
   ]
  },
  {
   "cell_type": "code",
   "execution_count": 186,
   "metadata": {},
   "outputs": [],
   "source": [
    "os.rmdir(new_folder_name)"
   ]
  },
  {
   "cell_type": "code",
   "execution_count": 189,
   "metadata": {},
   "outputs": [
    {
     "name": "stdout",
     "output_type": "stream",
     "text": [
      "('C:\\\\Users\\\\Lenovo\\\\Deep Learning ile Görüntü İşleme', ['.ipynb_checkpoints'], ['python.ipynb'])\n",
      "('C:\\\\Users\\\\Lenovo\\\\Deep Learning ile Görüntü İşleme\\\\.ipynb_checkpoints', [], ['python-checkpoint.ipynb'])\n"
     ]
    }
   ],
   "source": [
    "for i in os.walk(currentDir):\n",
    "    print(i) #dizinleri ve dosyaları görebileceğimiz method"
   ]
  },
  {
   "cell_type": "code",
   "execution_count": 192,
   "metadata": {},
   "outputs": [
    {
     "data": {
      "text/plain": [
       "True"
      ]
     },
     "execution_count": 192,
     "metadata": {},
     "output_type": "execute_result"
    }
   ],
   "source": [
    "os.path.exists(\"python.ipynb\") #aradığımız dosya var mı yok mu kontrol edelim"
   ]
  }
 ],
 "metadata": {
  "kernelspec": {
   "display_name": "Python 3",
   "language": "python",
   "name": "python3"
  },
  "language_info": {
   "codemirror_mode": {
    "name": "ipython",
    "version": 3
   },
   "file_extension": ".py",
   "mimetype": "text/x-python",
   "name": "python",
   "nbconvert_exporter": "python",
   "pygments_lexer": "ipython3",
   "version": "3.8.3"
  }
 },
 "nbformat": 4,
 "nbformat_minor": 4
}
